{
  "nbformat": 4,
  "nbformat_minor": 0,
  "metadata": {
    "colab": {
      "name": "python basics.ipynb",
      "provenance": [],
      "collapsed_sections": []
    },
    "kernelspec": {
      "name": "python3",
      "display_name": "Python 3"
    },
    "language_info": {
      "name": "python"
    }
  },
  "cells": [
    {
      "cell_type": "markdown",
      "source": [
        "# **bascis python programming**"
      ],
      "metadata": {
        "id": "_qnOJ5Azrta9"
      }
    },
    {
      "cell_type": "markdown",
      "source": [
        "arithmetic operation"
      ],
      "metadata": {
        "id": "e0vNifTRrjO-"
      }
    },
    {
      "cell_type": "code",
      "source": [
        "\n",
        "a=5\n",
        "b=6\n",
        "c=a+b\n",
        "print(c)"
      ],
      "metadata": {
        "colab": {
          "base_uri": "https://localhost:8080/"
        },
        "id": "Z9eUsZOtrj8S",
        "outputId": "4fd05bd4-f153-4c8e-fded-a86cb122b622"
      },
      "execution_count": null,
      "outputs": [
        {
          "output_type": "stream",
          "name": "stdout",
          "text": [
            "11\n"
          ]
        }
      ]
    },
    {
      "cell_type": "code",
      "source": [
        "a=5\n",
        "b=6\n",
        "e=a+b\n",
        "c=a-b\n",
        "m=a*b\n",
        "d=a/b\n",
        "print(a)\n",
        "print(c)\n",
        "print(m)\n",
        "print(d)\n",
        "print(\"add: {0}, sub:{1}, mult:{2},div:{3}\".format(a,c,m,d))"
      ],
      "metadata": {
        "colab": {
          "base_uri": "https://localhost:8080/"
        },
        "id": "cOupFPM8rniH",
        "outputId": "4c1d8147-7eed-44a0-c911-f7e1fd5de1ea"
      },
      "execution_count": null,
      "outputs": [
        {
          "output_type": "stream",
          "name": "stdout",
          "text": [
            "5\n",
            "-1\n",
            "30\n",
            "0.8333333333333334\n",
            "add: 5, sub:-1, mult:30,div:0.8333333333333334\n"
          ]
        }
      ]
    },
    {
      "cell_type": "markdown",
      "source": [
        "#**if condition**"
      ],
      "metadata": {
        "id": "ZJKOsp2ntx_Z"
      }
    },
    {
      "cell_type": "code",
      "source": [
        "a=10\n",
        "b=20\n",
        "if(a>30):\n",
        "  print(\"a is greater than 30\")\n",
        "else:\n",
        "  print(\"a is less than 30\")  "
      ],
      "metadata": {
        "colab": {
          "base_uri": "https://localhost:8080/"
        },
        "id": "GGTsB2gKsRA7",
        "outputId": "4c3f6645-9184-43f5-88ca-36262c1bb1fb"
      },
      "execution_count": null,
      "outputs": [
        {
          "output_type": "stream",
          "name": "stdout",
          "text": [
            "a is less than 30\n"
          ]
        }
      ]
    },
    {
      "cell_type": "code",
      "source": [
        "a=10\n",
        "b=20\n",
        "if(a>b):\n",
        "  print(\"a is greater than b\")\n",
        "elif(a==b):\n",
        "  print(\"a is equal to b\")\n",
        "else:\n",
        "  print(\"a is less than b\")  "
      ],
      "metadata": {
        "colab": {
          "base_uri": "https://localhost:8080/"
        },
        "id": "8NCR34XesROr",
        "outputId": "8afd8d80-a639-4809-f706-1b779b687397"
      },
      "execution_count": null,
      "outputs": [
        {
          "output_type": "stream",
          "name": "stdout",
          "text": [
            "a is less than b\n"
          ]
        }
      ]
    },
    {
      "cell_type": "markdown",
      "source": [
        "# nested if condition"
      ],
      "metadata": {
        "id": "5qGa682AvPZL"
      }
    },
    {
      "cell_type": "code",
      "source": [
        "a=10\n",
        "b=20\n",
        "c=20\n",
        "if(a>b):\n",
        "  print(\"a is greater than b\")\n",
        "elif(a==b):\n",
        "  print(\"a is equal to b\")\n",
        "  if(c>b):\n",
        "    print(\"c is greater than b\")\n",
        "  else:\n",
        "    print(\" c is not greater than b\")  \n",
        "else:\n",
        "  print(\"a is less than b\")  "
      ],
      "metadata": {
        "id": "-zHvybpesRP8",
        "colab": {
          "base_uri": "https://localhost:8080/"
        },
        "outputId": "a34167a0-7a56-47ab-d3be-885f7ec7c7bb"
      },
      "execution_count": 1,
      "outputs": [
        {
          "output_type": "stream",
          "name": "stdout",
          "text": [
            "a is less than b\n"
          ]
        }
      ]
    },
    {
      "cell_type": "markdown",
      "source": [
        "# for & range"
      ],
      "metadata": {
        "id": "HbiMZY6Yvoem"
      }
    },
    {
      "cell_type": "code",
      "source": [
        "for i in range(0,6):\n",
        "  print(i)"
      ],
      "metadata": {
        "id": "y6ddRkJtsRU0",
        "colab": {
          "base_uri": "https://localhost:8080/"
        },
        "outputId": "cb1c495a-771f-43f5-cb1d-90a89c9e4d47"
      },
      "execution_count": 2,
      "outputs": [
        {
          "output_type": "stream",
          "name": "stdout",
          "text": [
            "0\n",
            "1\n",
            "2\n",
            "3\n",
            "4\n",
            "5\n"
          ]
        }
      ]
    },
    {
      "cell_type": "code",
      "source": [
        "# icrement in 2 & 3\n",
        "for i in range(0,10,2):\n",
        "  print(i)\n",
        "\n",
        "for n in range(0,20,3):\n",
        "  print(n)  "
      ],
      "metadata": {
        "id": "f-hXzuv8sRWN",
        "colab": {
          "base_uri": "https://localhost:8080/"
        },
        "outputId": "26bdb150-d873-4bd9-b0a9-f35475f5cb2b"
      },
      "execution_count": 3,
      "outputs": [
        {
          "output_type": "stream",
          "name": "stdout",
          "text": [
            "0\n",
            "2\n",
            "4\n",
            "6\n",
            "8\n",
            "0\n",
            "3\n",
            "6\n",
            "9\n",
            "12\n",
            "15\n",
            "18\n"
          ]
        }
      ]
    },
    {
      "cell_type": "code",
      "source": [
        "#decrement in 2 & 3\n",
        "for i in range(10,0,2):\n",
        "  print(i)\n",
        "\n",
        "for n in range(20,0,3):\n",
        "  print(n) "
      ],
      "metadata": {
        "id": "EEVPtlbOsRbB"
      },
      "execution_count": 4,
      "outputs": []
    }
  ]
}